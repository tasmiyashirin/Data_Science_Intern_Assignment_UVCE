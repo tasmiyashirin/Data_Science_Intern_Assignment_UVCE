{
 "cells": [
  {
   "cell_type": "markdown",
   "metadata": {},
   "source": [
    "# 1. Data Preprocessing"
   ]
  },
  {
   "cell_type": "code",
   "execution_count": 1,
   "metadata": {},
   "outputs": [],
   "source": [
    "import pandas as pd\n",
    "from sklearn.preprocessing import StandardScaler\n",
    "from sklearn.metrics.pairwise import cosine_similarity\n",
    "from sklearn.decomposition import PCA\n",
    "from sklearn.cluster import KMeans\n",
    "from sklearn.metrics import davies_bouldin_score, silhouette_score\n",
    "import matplotlib.pyplot as plt\n",
    "import seaborn as sns"
   ]
  },
  {
   "cell_type": "code",
   "execution_count": 2,
   "metadata": {},
   "outputs": [],
   "source": [
    "# Load datasets\n",
    "customers_df = pd.read_csv('C:/Users/Tashm/Datasets/Zeotap_DS_Assignment/Customers.csv')\n",
    "products_df = pd.read_csv('C:/Users/Tashm/Datasets/Zeotap_DS_Assignment/Products.csv')\n",
    "transactions_df = pd.read_csv('C:/Users/Tashm/Datasets/Zeotap_DS_Assignment/Transactions.csv')"
   ]
  },
  {
   "cell_type": "code",
   "execution_count": 3,
   "metadata": {},
   "outputs": [],
   "source": [
    "# Aggregate transaction data\n",
    "transaction_agg = transactions_df.groupby('CustomerID').agg(\n",
    "    TotalSpending=('TotalValue', 'sum'),\n",
    "    TotalQuantity=('Quantity', 'sum'),\n",
    "    UniqueProducts=('ProductID', 'nunique')\n",
    ").reset_index()\n",
    "\n",
    "# Merge with customer data\n",
    "customer_data = customers_df.merge(transaction_agg, on='CustomerID', how='left').fillna(0)"
   ]
  },
  {
   "cell_type": "markdown",
   "metadata": {},
   "source": [
    "# 2. Feature Engineering"
   ]
  },
  {
   "cell_type": "code",
   "execution_count": 4,
   "metadata": {},
   "outputs": [],
   "source": [
    "# Select features for similarity calculation\n",
    "customer_data_encoded = pd.get_dummies(customer_data, columns=['Region'], drop_first=True)\n",
    "features = ['TotalSpending', 'TotalQuantity', 'UniqueProducts'] + [col for col in customer_data_encoded.columns if 'Region_' in col]\n",
    "\n",
    "# Standardize features\n",
    "scaler = StandardScaler()\n",
    "scaled_features = scaler.fit_transform(customer_data_encoded[features])\n"
   ]
  },
  {
   "cell_type": "markdown",
   "metadata": {},
   "source": [
    "# 3. Compute Similarity"
   ]
  },
  {
   "cell_type": "code",
   "execution_count": 5,
   "metadata": {},
   "outputs": [],
   "source": [
    "# Compute pairwise similarity\n",
    "similarity_matrix = cosine_similarity(scaled_features)\n",
    "\n",
    "# Map similarity scores to customer IDs\n",
    "similarity_df = pd.DataFrame(similarity_matrix, index=customer_data['CustomerID'], columns=customer_data['CustomerID'])\n"
   ]
  },
  {
   "cell_type": "markdown",
   "metadata": {},
   "source": [
    "# 4. Generate Lookalikes"
   ]
  },
  {
   "cell_type": "code",
   "execution_count": 6,
   "metadata": {},
   "outputs": [],
   "source": [
    "lookalike_map = {}\n",
    "\n",
    "# Find top 3 similar customers for each in C0001–C0020\n",
    "for customer_id in customer_data['CustomerID'][:20]:\n",
    "    similar_customers = similarity_df.loc[customer_id].sort_values(ascending=False)[1:4]\n",
    "    lookalike_map[customer_id] = list(zip(similar_customers.index, similar_customers.values))\n",
    "\n",
    "# Create Lookalike.csv\n",
    "lookalike_df = pd.DataFrame({\n",
    "    'CustomerID': lookalike_map.keys(),\n",
    "    'Lookalikes': [str(v) for v in lookalike_map.values()]\n",
    "})\n",
    "lookalike_df.to_csv('Lookalike.csv', index=False)\n"
   ]
  }
 ],
 "metadata": {
  "kernelspec": {
   "display_name": "Python 3",
   "language": "python",
   "name": "python3"
  },
  "language_info": {
   "codemirror_mode": {
    "name": "ipython",
    "version": 3
   },
   "file_extension": ".py",
   "mimetype": "text/x-python",
   "name": "python",
   "nbconvert_exporter": "python",
   "pygments_lexer": "ipython3",
   "version": "3.12.0"
  }
 },
 "nbformat": 4,
 "nbformat_minor": 2
}
